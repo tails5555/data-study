{
 "cells": [
  {
   "cell_type": "markdown",
   "metadata": {},
   "source": [
    "## 라이브러리 호출 및 기본 설정"
   ]
  },
  {
   "cell_type": "code",
   "execution_count": null,
   "metadata": {},
   "outputs": [],
   "source": [
    "# pandas 대신 pd 로 쓰자는 의미. mte 로 써도 mte 로 사용 가능.\n",
    "import pandas as pd\n",
    "\n",
    "# scipy 에 속하는 모듈 라이브러리. 주로 행렬, 수학적 데이터 등을 다룰 때 사용한다.\n",
    "import numpy as np\n",
    "\n",
    "# seaborn 은 그래프를 그리는 라이브러리 중 하나라 하더라... 사용법은 matplot 이랑 유사하다.\n",
    "import seaborn as sns\n",
    "\n",
    "# 시각화 라이브러리 호출\n",
    "import matplotlib.pyplot as plt\n",
    "\n",
    "# matplot 으로 시각화 표출 진행이 가능하다. 폰트를 설정해준다.\n",
    "plt.rc('font', family = 'AppleGothic')\n",
    "\n",
    "# 마이너스 값 (음수) 표현에 문제가 있는 듯하다. 깨지는 걸 방지하기 위한 설정.\n",
    "plt.rc('axes', unicode_minus = False)"
   ]
  },
  {
   "cell_type": "markdown",
   "metadata": {},
   "source": [
    "## 데이터 호출 및 기본적인 pandas 함수 작동"
   ]
  },
  {
   "cell_type": "code",
   "execution_count": null,
   "metadata": {},
   "outputs": [],
   "source": [
    "df = pd.read_csv('./소상공인시장진흥공단_상가업소정보_의료기관_201909.csv', low_memory = False, encoding='cp949')\n",
    "\n",
    "# 몇 행, 몇 열 인지 파악하기 위한 튜플 자료구조로 나온다.\n",
    "df.shape\n",
    "\n",
    "# shift + tab 으로 docstring 을 사용할 수 있다! (Jupyter Notebook 한정)"
   ]
  },
  {
   "cell_type": "code",
   "execution_count": null,
   "metadata": {},
   "outputs": [],
   "source": [
    "# 위에서 3행 데이터를 가져온다.\n",
    "df.head(3)"
   ]
  },
  {
   "cell_type": "code",
   "execution_count": null,
   "metadata": {},
   "outputs": [],
   "source": [
    "# 아래에서 3행 데이터를 가져온다.\n",
    "df.tail(3)"
   ]
  },
  {
   "cell_type": "code",
   "execution_count": null,
   "metadata": {},
   "outputs": [],
   "source": [
    "# CSV 에서 취합된 데이터에 대한 메타 데이터 (혹은 필드) 정보를 열람할 수 있다.\n",
    "df.info()\n",
    "\n",
    "# 필드 값은 컬럼 이름, 값 존재 Cnt, 데이터 타입 이렇게 취합되어 나온다."
   ]
  },
  {
   "cell_type": "code",
   "execution_count": null,
   "metadata": {},
   "outputs": [],
   "source": [
    "# 데이터 타입 종류들만 열람이 가능하다.\n",
    "df.dtypes"
   ]
  },
  {
   "cell_type": "markdown",
   "metadata": {},
   "source": [
    "## 결측치 해결 및 제거하기\n",
    "\n",
    "- null 값에 대한 제약사항을 해결하자.\n",
    "- NaN vs null 차이 -> 숫자가 무효해도 결측치로 인정해주는지 확인해볼 것.\n",
    "- 머신러닝 등 데이터 분석 사용 시, 결측치 값은 웬만하면 제거해주는 편이 좋다."
   ]
  },
  {
   "cell_type": "code",
   "execution_count": null,
   "metadata": {},
   "outputs": [],
   "source": [
    "# 데이터 별 null 값 카운트\n",
    "df.isnull()"
   ]
  },
  {
   "cell_type": "code",
   "execution_count": null,
   "metadata": {},
   "outputs": [],
   "source": [
    "# 아래 로직을 숫자로 반환 가능한 이유? -> Python 에서 True == 1 이 성립된다.\n",
    "null_cnt = df.isnull().sum() # 컬럼 별 null 개수 반환\n",
    "\n",
    "# 아래 결과는 Series 로 나올 것으로 추정된다.\n",
    "print(type(null_cnt))\n",
    "\n",
    "null_cnt"
   ]
  },
  {
   "cell_type": "code",
   "execution_count": null,
   "metadata": {},
   "outputs": [],
   "source": [
    "# plot() 은 기본으로 line 으로 그려진다. bar 는 막대, barh 는 가로막대.\n",
    "# rot 는 label 회전 각도. (rotate 에서 따온 모양.)\n",
    "# figsize 는 그래프의 크기를 조정한다. (width, height 인치 기준.)\n",
    "null_cnt.plot.barh(figsize=(5, 7))"
   ]
  },
  {
   "cell_type": "code",
   "execution_count": null,
   "metadata": {},
   "outputs": [],
   "source": [
    "# 컬럼 별 null 값 목록 결과를 data frame 으로 반환한다.\n",
    "# 현재까지 출력된 데이터 개수 (null_cnt) 는 Series 기반으로 취합되어 있었다.\n",
    "df_null_cnt = null_cnt.reset_index()"
   ]
  },
  {
   "cell_type": "code",
   "execution_count": null,
   "metadata": {},
   "outputs": [],
   "source": [
    "# 컬럼 이름을 각각 설정할 수 있나 보다. 그러나 컬럼 수가 다르면 무용지물 아닐까?\n",
    "df_null_cnt.columns = ['컬럼명', '결측치수']\n",
    "\n",
    "# df_null_cnt.columns = ['컬럼명', '결측치수', '11수']\n",
    "\n",
    "# 기본적으로 5 개의 행이 나오는 것으로 추론된다.\n",
    "df_null_cnt.head()"
   ]
  },
  {
   "cell_type": "code",
   "execution_count": null,
   "metadata": {},
   "outputs": [],
   "source": [
    "# sort_values, sort_index 차이에 대해 분명히 할 것. sort_values 는 컬럼 값에 대한 정렬.\n",
    "# 상위 10 개를 출력한다.\n",
    "df_null_cnt \\\n",
    "    .sort_values(by = ['결측치수'], ascending = False) \\\n",
    "    .head(10) "
   ]
  },
  {
   "cell_type": "code",
   "execution_count": null,
   "metadata": {},
   "outputs": [],
   "source": [
    "# NaN 이 여기서는 Not a Number 로 생각하면 된다. 즉, 결측치.\n",
    "\n",
    "# 컬럼으로 가져오려면 아래와 같이 작성한다. (인덱싱) 결과값은 Series 로 가져온다. \n",
    "df['지점명']\n",
    "\n",
    "# 슬라이딩 및 여러 인덱싱은 자동으로 DataFrame 이 될 것이다.\n",
    "df[['지점명', '상호명']]"
   ]
  },
  {
   "cell_type": "code",
   "execution_count": null,
   "metadata": {},
   "outputs": [],
   "source": [
    "# 아래와 같이 질의 중에도 슬라이싱 및 인덱싱이 가능한 것으로 추정된다.\n",
    "df_null_cnt_top = df_null_cnt \\\n",
    "    .sort_values(by = ['결측치수'], ascending = False) \\\n",
    "    .head(10) \\\n",
    "    ['컬럼명']\n",
    "\n",
    "# 상위 10 개의 결측치 컬럼명의 목록을 출력한다.\n",
    "df_null_top_columns = df_null_cnt_top.to_list()\n",
    "\n",
    "df_null_top_columns"
   ]
  },
  {
   "cell_type": "code",
   "execution_count": null,
   "metadata": {},
   "outputs": [],
   "source": [
    "# 결측지 맛집 Top 10 을 선정한 컬럼들로 데이터 목록을 조회한다.\n",
    "df[df_null_top_columns].head()\n",
    "\n",
    "# 결측치가 많은 데이터들에 대해 전부 제거한다.\n",
    "# axis 는 0 일 때 행, 1 일 때 열.\n",
    "print('삭제 전 -> ', df.shape)\n",
    "\n",
    "# implace 를 사용해서 내부에 변경하는 경우도 있지만, 실제로는 immutable 하게 처리하는 것이 좋을 수 밖에 없다.\n",
    "df = df.drop(df_null_top_columns, axis = 1)\n",
    "\n",
    "print('삭제 후 -> ', df.shape)"
   ]
  },
  {
   "cell_type": "code",
   "execution_count": null,
   "metadata": {},
   "outputs": [],
   "source": [
    "# 제거 뒤, info 를 통해 줄어든 데이터 용량을 확인한다.\n",
    "df.info()"
   ]
  },
  {
   "cell_type": "markdown",
   "metadata": {},
   "source": [
    "## 수치 (연속형), 문자열 (범주형) 데이터 요약하기 (기술통계)\n",
    "\n",
    "- 데이터 타입이 int, float 등 numeric 한 데이터들에 대해서는 기술통계 값들을 구할 수 있다.\n",
    "- 데이터 타입이 Object 인 데이터들에 대해서는 최빈도 값들을 구할 수 있다."
   ]
  },
  {
   "cell_type": "code",
   "execution_count": null,
   "metadata": {},
   "outputs": [],
   "source": [
    "print(df[\"위도\"].mean()) # 평균\n",
    "print(df[\"위도\"].median()) # 중앙값\n",
    "print(df[\"위도\"].max()) # 최댓값\n",
    "print(df[\"위도\"].min()) # 최소값\n",
    "print(df[\"위도\"].count()) # 개수 (비어 있는 값을 제외한 개수!)"
   ]
  },
  {
   "cell_type": "code",
   "execution_count": null,
   "metadata": {},
   "outputs": [],
   "source": [
    "# 1 사분위, 2 사분위 등등의 Quantite 값들도 존재한다.\n",
    "# 단일 행은 Series 객체로 반환된다.\n",
    "df[\"위도\"].describe() # 위 내용을 전부 요약한다.\n",
    "\n",
    "# 복수 행은 DataFrame 객체로 반환된다.\n",
    "df[[\"위도\", \"경도\"]].describe()"
   ]
  },
  {
   "cell_type": "code",
   "execution_count": null,
   "metadata": {},
   "outputs": [],
   "source": [
    "# 문자열에 대한 Not Null 개수, Distinct 개수, 가장 많은 문자열 개수 등이 포함되어 있다.\n",
    "# Number 는 숫자에 대한 계산, Object 는 문자열에 대한 계산.\n",
    "df.describe(include = 'object')"
   ]
  },
  {
   "cell_type": "code",
   "execution_count": null,
   "metadata": {},
   "outputs": [],
   "source": [
    "# 문자열 데이터에 대해 요약해보자.\n",
    "# 중복 값들을 제거한 데이터 목록 (numpy 배열로 반환되는 모양이다.)\n",
    "df[\"상권업종대분류명\"].unique()"
   ]
  },
  {
   "cell_type": "code",
   "execution_count": null,
   "metadata": {},
   "outputs": [],
   "source": [
    "# 중복 값들을 제거한 데이터 목록의 개수\n",
    "df[\"상권업종대분류명\"].nunique()"
   ]
  },
  {
   "cell_type": "code",
   "execution_count": null,
   "metadata": {},
   "outputs": [],
   "source": [
    "# 중분류, 소분류도 같이 해보자.\n",
    "df[\"상권업종중분류명\"].unique()\n",
    "df[\"상권업종중분류명\"].nunique()\n",
    "\n",
    "# nunique 도 이렇게 구현한 모양인 거 같다.\n",
    "print(len(df[\"상권업종중분류명\"].unique()))"
   ]
  },
  {
   "cell_type": "code",
   "execution_count": null,
   "metadata": {},
   "outputs": [],
   "source": [
    "# 각 컬럼에 해당하는 값들을 Counting 하고, Desc 하게 뿌려준다.\n",
    "city_normalize = df[\"시도명\"].value_counts()\n",
    "\n",
    "city_normalize.plot.barh()"
   ]
  },
  {
   "cell_type": "code",
   "execution_count": null,
   "metadata": {},
   "outputs": [],
   "source": [
    "# 각 컬럼에 해당하는 값들을 Counting 한 비율을 구해준다.\n",
    "# 이런 거는 솔직히... 원그래프 그리기 딱 좋은 거 같다.\n",
    "city_normalize = df[\"시도명\"].value_counts(normalize = True)\n",
    "\n",
    "# 서울, 경기도 둘 중 어느 곳이 많은지 감이 잡히기 어렵다.\n",
    "city_normalize.plot.pie(figsize = (7, 7))"
   ]
  },
  {
   "cell_type": "code",
   "execution_count": null,
   "metadata": {},
   "outputs": [],
   "source": [
    "# seaborn 을 사용한 그래프 그리기\n",
    "# seaborn 은 시각화 기능에 대한 통계적인 요소들을 간단히 적용할 수 있는 기능들을 보유하고 있다.\n",
    "sns.countplot(data=df, y=\"시도명\")"
   ]
  },
  {
   "cell_type": "code",
   "execution_count": null,
   "metadata": {},
   "outputs": [],
   "source": [
    "cnt = df[\"상권업종중분류명\"].value_counts()\n",
    "per = df[\"상권업종중분류명\"].value_counts(normalize=True)"
   ]
  },
  {
   "cell_type": "code",
   "execution_count": null,
   "metadata": {},
   "outputs": [],
   "source": [
    "# 막대 그래프를 그릴 때, 각도가 90 도 기본으로 되어 있는 거 같다.\n",
    "# 막대 그래프는 데이터 개수에 대한 판단이 필요할 때 주로 사용한다.\n",
    "# barh 는 가로 그래프 (horizon)\n",
    "cnt.plot.bar(rot = 0, grid = True)"
   ]
  },
  {
   "cell_type": "code",
   "execution_count": null,
   "metadata": {},
   "outputs": [],
   "source": [
    "# 원 그래프는 데이터 비율에 대한 판단이 필요할 때 주로 사용한다.\n",
    "per.plot.pie()"
   ]
  },
  {
   "cell_type": "markdown",
   "metadata": {},
   "source": [
    "## 데이터 색인하기\n",
    "\n",
    "- 특정 데이터들에 대한 모음을 구성할 때 사용한다.\n",
    "- 여러 조건들에 대해서는 &, | 연산자 등으로 취합해서 사용하는 양상이다."
   ]
  },
  {
   "cell_type": "code",
   "execution_count": null,
   "metadata": {},
   "outputs": [],
   "source": [
    "# 상권업종중분류명 -> 약국/한약방\n",
    "# filter 조건은 df 안에 아래와 같이 관계 대수를 사용하여 정의하면 되겠다.\n",
    "# 데이터 추출 결과는 웬만하면... 복사해서 사용하는 것이 좋겠다... 아무래도 Call By Reference 의 한계도 있는 거 같다.\n",
    "df_medical = df[df['상권업종중분류명'] == '약국/한약방'].copy()\n",
    "\n",
    "df_medical.head()"
   ]
  },
  {
   "cell_type": "code",
   "execution_count": null,
   "metadata": {},
   "outputs": [],
   "source": [
    "# 이렇게만 작성하는 것은 각 데이터 Row 별 해당 조건을 충족하는지 확인하기 위한 Series 객체를 반환한다.\n",
    "m = df[\"상권업종대분류명\"] == \"의료\"\n",
    "\n",
    "# df.loc 를 사용해서 행, 열을 함께 가져올 수 있다.\n",
    "# 아래와 같이 [][] 를 쓰지 말고, [ A, [B, ... ] ... ] 이렇게 사용하는 것이 좋겠다.\n",
    "df.loc[m, \"상권업종중분류명\"].value_counts()"
   ]
  },
  {
   "cell_type": "code",
   "execution_count": null,
   "metadata": {},
   "outputs": [],
   "source": [
    "# 유사의료업만 따로 모아보기\n",
    "# shape 는 행, 열 순으로 개수를 뽑아본다.\n",
    "df[df[\"상권업종중분류명\"] == \"유사의료업\"].shape"
   ]
  },
  {
   "cell_type": "code",
   "execution_count": null,
   "metadata": {},
   "outputs": [],
   "source": [
    "# 상호명 중 가장 흔히 사용하는 가게 이름 개수 뽑기 (예를 들어 서울에 보람약국이 있으면, 대전에도 보람약국이 있을 수 있다.)\n",
    "# 아래와 같이 메소드 끼리 실행 순서를 정의하는 것이 메소드 체이닝. 마치 Functional Programming 이랑 같다.\n",
    "df['상호명'].value_counts().head()"
   ]
  },
  {
   "cell_type": "code",
   "execution_count": null,
   "metadata": {},
   "outputs": [],
   "source": [
    "df_medi = df[df['상권업종중분류명'] == '유사의료업'].copy()\n",
    "\n",
    "print(df_medi.shape)\n",
    "\n",
    "# 유사의료업에서 사용하는 가장 많은 상호명 상위 10 개 추출\n",
    "df_medi['상호명'].value_counts().head(10)\n"
   ]
  },
  {
   "cell_type": "code",
   "execution_count": null,
   "metadata": {},
   "outputs": [],
   "source": [
    "# 아래 두 가지 조건을 만족 시켜보자.\n",
    "df['상권업종소분류명'] == '약국'\n",
    "df['시도명'] == '서울특별시'\n",
    "\n",
    "# 위들을 and 로 하면 되겠지? 는 아니다. 결과는 ambiguous 으로 애매한 것으로 나온다.\n",
    "# 여기서는 어쩔 수 없이 & 을 사용해야 한다. 그리고 각 조건 당 소괄호로 체크해야 한다... Python 의 연산자로 사용하는 것이 아닌, 그들만의 연산자가 정의된 것으로 사료된다.\n",
    "df_seoul_drug = df[(df['상권업종소분류명'] == '약국') & (df['시도명'] == '서울특별시')]\n",
    "\n",
    "print(df_seoul_drug.shape)\n",
    "\n",
    "df_seoul_drug.head(5)"
   ]
  },
  {
   "cell_type": "code",
   "execution_count": null,
   "metadata": {},
   "outputs": [],
   "source": [
    "c = df_seoul_drug['시군구명'].value_counts()\n",
    "c.head()\n",
    "\n",
    "n = df_seoul_drug['시군구명'].value_counts(normalize=True)\n",
    "n.head()"
   ]
  },
  {
   "cell_type": "code",
   "execution_count": null,
   "metadata": {},
   "outputs": [],
   "source": [
    "c.plot.bar(rot = 60)"
   ]
  },
  {
   "cell_type": "code",
   "execution_count": null,
   "metadata": {},
   "outputs": [],
   "source": [
    "df_seoul_hosp = df[(df['상권업종소분류명'] == '종합병원') & (df['시도명'] == '서울특별시')].copy()\n",
    "\n",
    "# 해당 데이터에는 ~ 의원, ~ 매장 등등이 포함되어 있다...\n",
    "df_seoul_hosp['시군구명'].value_counts()"
   ]
  },
  {
   "cell_type": "code",
   "execution_count": null,
   "metadata": {},
   "outputs": [],
   "source": [
    "# '종합병원' 이란 문자열이 포함된 녀석들만 확인을 원하면 아래와 같이 작성한다.\n",
    "df_seoul_hosp['상호명'].str.contains('종합병원')\n",
    "\n",
    "# '종합병원' 문자열 포함을 안 시키면 ~ 으로 써야 한다. ! 가 아님을 유의하라.\n",
    "~df_seoul_hosp['상호명'].str.contains('종합병원')\n",
    "\n",
    "# 상위 조건들에 대해서는 변수들에 대해 같게 해야 한다. 조건 달을 때 유의하라.\n",
    "# 텍스트 데이터 전처리 (즉, 종합병원 같은 이름을 추출하는 과정...) 를 시작하기 위해 우선 병원 이름 목록들을 출력한다.\n",
    "df_seoul_hosp.loc[~df_seoul_hosp['상호명'].str.contains('종합병원'), '상호명'].unique()\n",
    "\n",
    "# '꽃배달' 문자열이 포함된 경우를 빼기 위한 조건\n",
    "~df_seoul_hosp['상호명'].str.contains('꽃배달')\n",
    "\n",
    "# '의료기' 문자열이 포함된 경우를 빼기 위한 조건\n",
    "~df_seoul_hosp['상호명'].str.contains('의료기')"
   ]
  },
  {
   "cell_type": "code",
   "execution_count": null,
   "metadata": {},
   "outputs": [],
   "source": [
    "# 아래와 같은 종합병원의 ㅈ 자와 관련 없는 데이터들에 대해 검색하고, 인덱스를 가져온다.\n",
    "drop_row = df_seoul_hosp[\n",
    "    df_seoul_hosp['상호명'].str.contains('꽃배달|의료기|장례식장|상담소|어린이집')\n",
    "].index\n",
    "\n",
    "# python list 로 반환한다.\n",
    "drop_row = drop_row.tolist()\n",
    "drop_row"
   ]
  },
  {
   "cell_type": "code",
   "execution_count": null,
   "metadata": {},
   "outputs": [],
   "source": [
    "# startswith, endswith 도 되나 보다...\n",
    "drop_row2 = df_seoul_hosp[df_seoul_hosp['상호명'].str.endswith('의원')].index\n",
    "drop_row2 = drop_row2.tolist()\n",
    "\n",
    "drop_row2"
   ]
  },
  {
   "cell_type": "code",
   "execution_count": null,
   "metadata": {},
   "outputs": [],
   "source": [
    "# 인덱스 목록들에 대해 합쳐준다. merge 를 하는 건 아니고... concat 같은 느낌이 든다.\n",
    "drop_row = drop_row + drop_row2\n",
    "\n",
    "len(drop_row)"
   ]
  },
  {
   "cell_type": "code",
   "execution_count": null,
   "metadata": {},
   "outputs": [],
   "source": [
    "print(df_seoul_hosp.shape) # Before\n",
    "df_seoul_hosp = df_seoul_hosp.drop(drop_row, axis=0)\n",
    "print(df_seoul_hosp.shape) # After"
   ]
  },
  {
   "cell_type": "code",
   "execution_count": null,
   "metadata": {},
   "outputs": [],
   "source": [
    "plt.figure(figsize=(15,4))\n",
    "\n",
    "# 개수로 자동으로 정렬이 안 되니... order 값으로 설정해둘 것. (seaborn 한정)\n",
    "sns.countplot(data = df_seoul_hosp, x = '시군구명', order = df_seoul_hosp['시군구명'].value_counts().index)\n",
    "\n",
    "# 데이터 전처리에 대해서는... (예를 들어 ABC병원내편의점 등 문자열이 포함되어 있는 경우...) 정리하는 작업이 조금 지루해질 수 있는 것도 감안해야 할 것이다."
   ]
  },
  {
   "cell_type": "markdown",
   "metadata": {},
   "source": [
    "## 위경도 데이터 Scatter Plot (산점도) 실습"
   ]
  },
  {
   "cell_type": "code",
   "execution_count": null,
   "metadata": {},
   "outputs": [],
   "source": [
    "df_seoul = df[df['시도명'] == '서울특별시'].copy()\n",
    "\n",
    "print(df_seoul.shape)\n",
    "\n",
    "df_seoul['시군구명'].value_counts()\n",
    "\n",
    "# countplot 는 seaborn 에 있다. x 축, y 축을 따로 정의하는 것임을 유의하라.\n",
    "plt.figure(figsize = (15, 4))\n",
    "sns.countplot(data = df_seoul, x=\"시군구명\")"
   ]
  },
  {
   "cell_type": "code",
   "execution_count": null,
   "metadata": {},
   "outputs": [],
   "source": [
    "\n",
    "# 산점도 모습이 마치 서울특별시 지도랑 비슷한 양상으로 보인다.\n",
    "df_seoul[['경도', '위도', '시군구명']].plot.scatter(x = '경도', y = '위도', figsize = (8, 7), grid = True)"
   ]
  },
  {
   "cell_type": "code",
   "execution_count": null,
   "metadata": {},
   "outputs": [],
   "source": [
    "# hue 는 색상을 다르게 하는 것이다.\n",
    "plt.figure(figsize = (9, 8))\n",
    "\n",
    "# 그래프가 각 구 마다 색상이 다른 양상으로 나온다.\n",
    "sns.scatterplot(data = df_seoul, x = '경도', y = '위도', hue = '시군구명')"
   ]
  },
  {
   "cell_type": "code",
   "execution_count": null,
   "metadata": {},
   "outputs": [],
   "source": [
    "# 그래프가 각각 다르게 나올 것이다.\n",
    "sns.scatterplot(data = df_seoul, x = '경도', y = '위도', hue = '상권업종중분류명')"
   ]
  },
  {
   "cell_type": "code",
   "execution_count": null,
   "metadata": {},
   "outputs": [],
   "source": [
    "# 너무 많이 불러오면 느릴 것으로 판단되니... 1000 개만 그려보자.\n",
    "plt.figure(figsize = (16, 12))\n",
    "sns.scatterplot(data = df, x = '경도', y = '위도', hue = '시도명')"
   ]
  },
  {
   "cell_type": "markdown",
   "metadata": {},
   "source": [
    "## Folium 으로 위경도 지도 그리기"
   ]
  },
  {
   "cell_type": "code",
   "execution_count": null,
   "metadata": {},
   "outputs": [],
   "source": [
    "import folium\n",
    "\n",
    "lat = df_seoul_hosp['위도'].mean()\n",
    "lot = df_seoul_hosp['경도'].mean()\n",
    "\n",
    "print(lot, lat)\n",
    "\n",
    "map = folium.Map(\n",
    "    location = [lat, lot], \n",
    "    zoom_start = 12 \n",
    ")\n",
    "\n",
    "for n in df_seoul_hosp.index:\n",
    "    name = df_seoul_hosp.loc[n, '상호명']\n",
    "    address = df_seoul_hosp.loc[n, '도로명주소']\n",
    "    popup = f\"{name} - {address}\"\n",
    "    tlat = df_seoul_hosp.loc[n, '위도']\n",
    "    tlot = df_seoul_hosp.loc[n, '경도']\n",
    "    folium.Marker(\n",
    "        location = [tlat, tlot], popup = popup\n",
    "    ).add_to(map)\n",
    "\n",
    "map\n"
   ]
  },
  {
   "cell_type": "code",
   "execution_count": null,
   "metadata": {},
   "outputs": [],
   "source": [
    "df.count().plot.barh()"
   ]
  }
 ],
 "metadata": {
  "kernelspec": {
   "display_name": "Python 3.9.6 ('datastudy')",
   "language": "python",
   "name": "python3"
  },
  "language_info": {
   "codemirror_mode": {
    "name": "ipython",
    "version": 3
   },
   "file_extension": ".py",
   "mimetype": "text/x-python",
   "name": "python",
   "nbconvert_exporter": "python",
   "pygments_lexer": "ipython3",
   "version": "3.9.13"
  },
  "orig_nbformat": 4,
  "vscode": {
   "interpreter": {
    "hash": "5b8cdf8c2c1625789fe262eae0d0f71b892ce15df7950995cb5f583dc9348086"
   }
  }
 },
 "nbformat": 4,
 "nbformat_minor": 2
}
